{
 "cells": [
  {
   "cell_type": "code",
   "execution_count": 2,
   "id": "44e19fda-e9f1-4ae8-84b0-55423e11f692",
   "metadata": {},
   "outputs": [],
   "source": [
    "import math"
   ]
  },
  {
   "cell_type": "code",
   "execution_count": 95,
   "id": "428e4ed3-f4c9-4fde-ae19-2350a6540a20",
   "metadata": {},
   "outputs": [],
   "source": [
    "a=\"99\""
   ]
  },
  {
   "cell_type": "code",
   "execution_count": 96,
   "id": "998421f0-29b8-4aa1-9712-903fc634ab74",
   "metadata": {},
   "outputs": [],
   "source": [
    "\n",
    "def toBin(s):\n",
    "    l = len(s)\n",
    "    conv = math.log(2)/math.log(10)\n",
    "    bin_digs = int(l / conv) + 1\n",
    "    c=0\n",
    "    bin=\"\"\n",
    "    digs=s\n",
    "    while len(digs)>0:\n",
    "        digsn=\"\"\n",
    "        r=0\n",
    "        lead=True\n",
    "        for dig in digs:\n",
    "            ni = int(dig) + r*10\n",
    "            nj = int(ni/2)\n",
    "            r = ni % 2\n",
    "            if lead:\n",
    "                if nj==0:\n",
    "                    continue\n",
    "                else:\n",
    "                    lead=False\n",
    "            digsn = digsn + str(nj)\n",
    "        bin = str(r) + bin\n",
    "        digs = digsn\n",
    "    print(f\"bin_digs_th: {bin_digs}, {len(bin)}, {bin}\")\n",
    "    return bin\n",
    "        \n",
    "        "
   ]
  },
  {
   "cell_type": "code",
   "execution_count": 97,
   "id": "f88d2e88-56b7-451d-a621-37c9201b93a5",
   "metadata": {},
   "outputs": [
    {
     "name": "stdout",
     "output_type": "stream",
     "text": [
      "bin_digs_th: 7, 7, 1100011\n"
     ]
    },
    {
     "data": {
      "text/plain": [
       "'1100011'"
      ]
     },
     "execution_count": 97,
     "metadata": {},
     "output_type": "execute_result"
    }
   ],
   "source": [
    "toBin(a)"
   ]
  },
  {
   "cell_type": "code",
   "execution_count": 34,
   "id": "4e80e38f-d550-4ecc-ad47-75115e74ebeb",
   "metadata": {},
   "outputs": [
    {
     "data": {
      "text/plain": [
       "2.302585092994046"
      ]
     },
     "execution_count": 34,
     "metadata": {},
     "output_type": "execute_result"
    }
   ],
   "source": [
    "math.log(10)"
   ]
  },
  {
   "cell_type": "code",
   "execution_count": 17,
   "id": "0adaee53-4938-45d2-8025-6d136d84d746",
   "metadata": {},
   "outputs": [
    {
     "data": {
      "text/plain": [
       "0.30102999566398114"
      ]
     },
     "execution_count": 17,
     "metadata": {},
     "output_type": "execute_result"
    }
   ],
   "source": []
  },
  {
   "cell_type": "code",
   "execution_count": null,
   "id": "6a96d8f8-19f7-419e-8814-62d3a5418f86",
   "metadata": {},
   "outputs": [],
   "source": []
  }
 ],
 "metadata": {
  "kernelspec": {
   "display_name": "Python 3 (ipykernel)",
   "language": "python",
   "name": "python3"
  },
  "language_info": {
   "codemirror_mode": {
    "name": "ipython",
    "version": 3
   },
   "file_extension": ".py",
   "mimetype": "text/x-python",
   "name": "python",
   "nbconvert_exporter": "python",
   "pygments_lexer": "ipython3",
   "version": "3.12.4"
  }
 },
 "nbformat": 4,
 "nbformat_minor": 5
}
